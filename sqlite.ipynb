{
 "cells": [
  {
   "cell_type": "code",
   "execution_count": 1,
   "id": "10df9ac2",
   "metadata": {},
   "outputs": [],
   "source": [
    "%load_ext sql\n"
   ]
  },
  {
   "cell_type": "code",
   "execution_count": 2,
   "id": "e128b510",
   "metadata": {},
   "outputs": [],
   "source": [
    "%sql sqlite:///council.db"
   ]
  },
  {
   "cell_type": "code",
   "execution_count": 86,
   "id": "d5b4eaed",
   "metadata": {},
   "outputs": [],
   "source": [
    "# %%sql\n",
    "# DROP TABLE Researchers;\n",
    "# CREATE TABLE Researchers (\n",
    "#     ResearcherID INT PRIMARY KEY,\n",
    "#     FirstName VARCHAR(255),\n",
    "#     LastName VARCHAR(255),\n",
    "#     Email VARCHAR(255),\n",
    "#     Organization VARCHAR(255)\n",
    "# );\n"
   ]
  },
  {
   "cell_type": "code",
   "execution_count": 87,
   "id": "5e07fb54",
   "metadata": {},
   "outputs": [],
   "source": [
    "# %%sql \n",
    "# CREATE TABLE Competitions (\n",
    "#     CompetitionID INT PRIMARY KEY,\n",
    "#     Title VARCHAR(255),\n",
    "#     Deadline DATE,\n",
    "#     Description TEXT,\n",
    "#     Area VARCHAR(255),\n",
    "#     Status VARCHAR(255)\n",
    "# );\n"
   ]
  },
  {
   "cell_type": "code",
   "execution_count": 88,
   "id": "b727d4ae",
   "metadata": {},
   "outputs": [],
   "source": [
    "# %%sql \n",
    "# DROP TABLE Applications;\n",
    "# CREATE TABLE Applications (\n",
    "#     ApplicationID INT PRIMARY KEY,\n",
    "#     RequestedAmount DECIMAL(10,2),\n",
    "#     Status VARCHAR(255),\n",
    "#     AwardedAmount DECIMAL(10,2),\n",
    "#     principleInvestigatorID INT,\n",
    "#     CompetitionID INT,\n",
    "#     FOREIGN KEY (principleInvestigatorID) REFERENCES Researchers(ResearcherID),\n",
    "#     FOREIGN KEY (CompetitionID) REFERENCES Competitions(CompetitionID)\n",
    "# );"
   ]
  },
  {
   "cell_type": "code",
   "execution_count": 89,
   "id": "73688952",
   "metadata": {
    "scrolled": true
   },
   "outputs": [],
   "source": [
    "# %%sql \n",
    "# CREATE TABLE WorkOn (\n",
    "#     ApplicationID INT,\n",
    "#     ResearcherID INT,\n",
    "#     FOREIGN KEY (ApplicationID) REFERENCES Application(ApplicationID)\n",
    "#     FOREIGN KEY (ResearcherID) REFERENCES Researchers(ResearcherID)\n",
    "# );"
   ]
  },
  {
   "cell_type": "code",
   "execution_count": 105,
   "id": "280d65b2",
   "metadata": {},
   "outputs": [],
   "source": [
    "# %%sql \n",
    "# CREATE TABLE Review (\n",
    "#     ApplicationID INT,\n",
    "#     ReviewID INT,\n",
    "#     FOREIGN KEY (ApplicationID) REFERENCES Application(ApplicationID)\n",
    "#     FOREIGN KEY (ReviewID) REFERENCES Researchers(ResearcherID)\n",
    "# );"
   ]
  },
  {
   "cell_type": "code",
   "execution_count": 102,
   "id": "02e83cd1",
   "metadata": {},
   "outputs": [
    {
     "name": "stdout",
     "output_type": "stream",
     "text": [
      " * sqlite:///council.db\n",
      "(sqlite3.OperationalError) table Meetings already exists\n",
      "[SQL: CREATE TABLE Meetings (\n",
      "    MeetingID INT PRIMARY KEY,\n",
      "    Date DATE,\n",
      ");]\n",
      "(Background on this error at: https://sqlalche.me/e/20/e3q8)\n"
     ]
    }
   ],
   "source": [
    "# %%sql \n",
    "# CREATE TABLE Meetings (\n",
    "#     MeetingID INT PRIMARY KEY,\n",
    "#     Date DATE,\n",
    "# );"
   ]
  },
  {
   "cell_type": "code",
   "execution_count": 103,
   "id": "5eb25bbe",
   "metadata": {},
   "outputs": [
    {
     "name": "stdout",
     "output_type": "stream",
     "text": [
      " * sqlite:///council.db\n",
      "Done.\n"
     ]
    },
    {
     "data": {
      "text/plain": [
       "[]"
      ]
     },
     "execution_count": 103,
     "metadata": {},
     "output_type": "execute_result"
    }
   ],
   "source": [
    "# %%sql \n",
    "# CREATE TABLE MeetingsCompetitionList (\n",
    "#     MeetingID INT,\n",
    "#     CompetitionID INT,\n",
    "#     FOREIGN KEY (CompetitionID) REFERENCES Competitions(CompetitionID)\n",
    "# );"
   ]
  },
  {
   "cell_type": "code",
   "execution_count": null,
   "id": "dbd49768",
   "metadata": {},
   "outputs": [],
   "source": [
    "# %%sql\n",
    "# CREATE TABLE MeetingsReviewerIDList (\n",
    "#     MeetingID INT,\n",
    "#     ReviewerID INT,\n",
    "#     FOREIGN KEY (ReviewerID) REFERENCES Researchers(ResearcherID)\n",
    "# );"
   ]
  },
  {
   "cell_type": "code",
   "execution_count": 92,
   "id": "d219196a",
   "metadata": {},
   "outputs": [],
   "source": [
    "# %%sql\n",
    "# INSERT INTO Researchers (ResearcherID, FirstName, LastName, Email, Organization) VALUES \n",
    "# (1, 'Karen', 'Davis', 'josephwright@hotmail.com', 'University of Victoria'), \n",
    "# (2, 'Charles', 'Ayers', 'darlenediaz@hotmail.com', 'University of Victoria'), \n",
    "# (3, 'Justin', 'Smith', 'jessicarobinson@hahn.com', 'University of British Columbia'), \n",
    "# (4, 'Jeffrey', 'Whitney', 'ybutler@yahoo.com', 'University of Victoria'), \n",
    "# (5, 'Evan', 'Obrien', 'valeriewest@leonard.com', 'University of Victoria'), \n",
    "# (6, 'Gabrielle', 'Conway', 'jcohen@ellison.com', 'University of British Columbia'), \n",
    "# (7, 'Paul', 'Green', 'kfranklin@hotmail.com', 'McGill University'), \n",
    "# (8, 'Rodney', 'Yoder', 'gregory44@gilbert-ramos.info', 'Simon Fraser University'), \n",
    "# (9, 'Jennifer', 'Hill', 'kristinmarshall@meyers.com', 'University of Victoria'), \n",
    "# (10, 'Michael', 'Li', 'johnsonstephanie@yahoo.com', 'Simon Fraser University'), \n",
    "# (11, 'Stephanie', 'Medina', 'amyfowler@hernandez.com', 'University of British Columbia'), \n",
    "# (12, 'Jason', 'Rodriguez', 'bcarr@hotmail.com', 'University of Victoria'), \n",
    "# (13, 'Michael', 'Vance', 'sosaamanda@gmail.com', 'University of Victoria'), \n",
    "# (14, 'Paige', 'Villarreal', 'nfowler@yahoo.com', 'Simon Fraser University'), \n",
    "# (15, 'Victoria', 'Diaz', 'amyrandolph@krause.com', 'University of Victoria'), \n",
    "# (16, 'Dennis', 'Greene', 'patriciastokes@phillips.com', 'University of British Columbia'), \n",
    "# (17, 'David', 'Estrada', 'kylejackson@yahoo.com', 'University of British Columbia'), \n",
    "# (18, 'Paige', 'Mcguire', 'hardincathy@rivera-wolfe.net', 'University of British Columbia'), \n",
    "# (19, 'Charles', 'Murphy', 'sanchezjanet@hotmail.com', 'University of Victoria'), \n",
    "# (20, 'Anna', 'Case', 'patrick72@mclaughlin-smith.com', 'Simon Fraser University'),\n",
    "# (21, 'Lisa', 'Parker', 'audreygoodwin@munoz.info', 'Simon Fraser University'), \n",
    "# (22, 'Jesse', 'Burch', 'perezjustin@gmail.com', 'University of British Columbia'), \n",
    "# (23, 'Richard', 'Salazar', 'faith38@perez.com', 'University of Victoria'), \n",
    "# (24, 'Daniel', 'Moore', 'cheryljohnson@gmail.com', 'University of British Columbia'), \n",
    "# (25, 'Samantha', 'Freeman', 'michelle62@schneider.org', 'University of Victoria'), \n",
    "# (26, 'Joshua', 'Thomas', 'wmorris@gmail.com', 'McGill University'), \n",
    "# (27, 'John', 'Carter', 'haleynicole@yahoo.com', 'University of British Columbia'), \n",
    "# (28, 'Ashley', 'Wilson', 'brianroberts@yahoo.com', 'Simon Fraser University'), \n",
    "# (29, 'Angela', 'Martinez', 'millerchristopher@hotmail.com', 'McGill University'), \n",
    "# (30, 'Heather', 'Anderson', 'robertlopez@hotmail.com', 'University of British Columbia'), \n",
    "# (31, 'Michelle', 'Hernandez', 'shannon16@walker.com', 'University of Victoria'), \n",
    "# (32, 'Elizabeth', 'Robinson', 'robertsbrandon@wilson.com', 'Simon Fraser University'), \n",
    "# (33, 'Nicholas', 'Brown', 'robertmartinez@hotmail.com', 'University of British Columbia'), \n",
    "# (34, 'Christopher', 'Lee', 'sandra34@yahoo.com', 'University of Victoria'), \n",
    "# (35, 'Jessica', 'Garcia', 'hilldavid@gmail.com', 'McGill University'), \n",
    "# (36, 'Matthew', 'Martinez', 'jessica26@harris.info', 'Simon Fraser University'), \n",
    "# (37, 'Laura', 'Mitchell', 'scottkelly@barnes.com', 'University of Victoria'), \n",
    "# (38, 'Brian', 'Taylor', 'annawilliams@gmail.com', 'University of British Columbia'), \n",
    "# (39, 'Kimberly', 'White', 'dianawilson@yahoo.com', 'McGill University'), \n",
    "# (40, 'Gregory', 'Anderson', 'lopezchristopher@hotmail.com', 'Simon Fraser University'),\n",
    "# (41, 'Amanda', 'Gonzalez', 'shirleybaker@yahoo.com', 'McGill University'), \n",
    "# (42, 'Brittany', 'Smith', 'carolyn91@williams-garcia.com', 'University of Victoria'), \n",
    "# (43, 'Megan', 'Clark', 'samantha58@yahoo.com', 'Simon Fraser University'), \n",
    "# (44, 'Melissa', 'Lopez', 'michaelscott@hughes.biz', 'University of British Columbia'), \n",
    "# (45, 'Christina', 'Harris', 'bakerkenneth@jones.com', 'University of Victoria'), \n",
    "# (46, 'Ashley', 'Martin', 'davidsonkelly@hernandez.com', 'McGill University'), \n",
    "# (47, 'Nicole', 'Allen', 'wilsonmichael@yahoo.com', 'Simon Fraser University'), \n",
    "# (48, 'Emily', 'Young', 'sandersjames@wilson.org', 'University of British Columbia'), \n",
    "# (49, 'Stephanie', 'Hernandez', 'elizabethgarcia@gmail.com', 'University of Victoria'), \n",
    "# (50, 'Samantha', 'King', 'jennifer63@perez-jones.com', 'McGill University'), \n",
    "# (51, 'Elizabeth', 'Wright', 'patriciawilliams@yahoo.com', 'Simon Fraser University'), \n",
    "# (52, 'Lauren', 'Martinez', 'danielleclark@williams.com', 'University of British Columbia'), \n",
    "# (53, 'Rachel', 'Taylor', 'gregorylee@anderson.com', 'University of Victoria'), \n",
    "# (54, 'Sarah', 'Moore', 'hannahmartinez@gmail.com', 'McGill University'), \n",
    "# (55, 'Daniel', 'Anderson', 'brianwhite@brown.com', 'Simon Fraser University'), \n",
    "# (56, 'Christopher', 'Miller', 'smithbrian@rodriguez.com', 'University of British Columbia'), \n",
    "# (57, 'Matthew', 'Davis', 'robinsonmichael@hotmail.com', 'University of Victoria'), \n",
    "# (58, 'Andrew', 'Martinez', 'patricia55@lee.com', 'McGill University'), \n",
    "# (59, 'Joseph', 'Taylor', 'garciamark@jones-roberts.com', 'Simon Fraser University'), \n",
    "# (60, 'Ryan', 'Garcia', 'michael34@gmail.com', 'University of British Columbia');"
   ]
  },
  {
   "cell_type": "code",
   "execution_count": 93,
   "id": "ae0e88af",
   "metadata": {},
   "outputs": [],
   "source": [
    "# %%sql\n",
    "# SELECT * FROM Researchers;"
   ]
  },
  {
   "cell_type": "code",
   "execution_count": 29,
   "id": "5747525e",
   "metadata": {},
   "outputs": [],
   "source": [
    "# %%sql\n",
    "# INSERT INTO Competitions (CompetitionID, Title, Deadline, Description, Area, Status) VALUES\n",
    "# (1, 'Big Data Challenge 2024', '2024-12-31', 'A challenge to solve big data problems using innovative solutions.', 'Big Data', 'open'),\n",
    "# (2, 'Quantum Computing Quest', '2024-06-30', 'Exploring the potentials of quantum computing in solving complex calculations.', 'Quantum Computer', 'open'),\n",
    "# (3, 'AI Innovation Award 2024', '2024-09-15', 'A competition to create the most innovative AI-driven applications.', 'Artificial Intelligence', 'closed'),\n",
    "# (4, 'Global Biology Olympiad', '2024-11-20', 'An international competition for high school students to demonstrate their biology knowledge.', 'Biology', 'open'),\n",
    "# (5, 'Computer Science Hackathon', '2024-08-05', 'A 48-hour marathon for developing software that addresses a specific challenge.', 'Computer Science', 'closed'),\n",
    "# (6, 'Future of Robotics', '2024-07-19', 'Competition focusing on advancements in robotics technology and design.', 'Robotics', 'open'),\n",
    "# (7, 'Cybersecurity Grand Challenge', '2024-10-10', 'Identify and solve cybersecurity threats in innovative ways.', 'Cybersecurity', 'closed'),\n",
    "# (8, 'Virtual Reality Innovators', '2024-05-22', 'Creating immersive virtual reality experiences for various applications.', 'Virtual Reality', 'open'),\n",
    "# (9, 'Sustainable Energy Solutions', '2024-03-30', 'Competitions to find sustainable and renewable energy solutions.', 'Sustainable Energy', 'closed'),\n",
    "# (10, 'Genetic Engineering Hack', '2024-04-15', 'A contest to showcase breakthroughs in genetic engineering.', 'Genetic Engineering', 'open'),\n",
    "# (11, 'Deep Learning Discoveries', '2024-02-28', 'A contest for breakthroughs in deep learning techniques.', 'Deep Learning', 'open'),\n",
    "# (12, 'Nanotechnology Innovations', '2024-04-30', 'Pushing the boundaries of nanotech to solve real-world problems.', 'Nanotechnology', 'closed'),\n",
    "# (13, 'Space Exploration Challenge', '2024-07-15', 'Designing innovative technologies for space exploration.', 'Space Technology', 'open'),\n",
    "# (14, 'Marine Biology Research', '2024-09-30', 'Encouraging young scientists to present their marine biology research.', 'Marine Biology', 'closed'),\n",
    "# (15, 'Cloud Computing Advancements', '2024-11-20', 'A showcase of innovative cloud computing solutions.', 'Cloud Computing', 'open'),\n",
    "# (16, 'Quantum Encryption Breakthrough', '2024-01-15', 'Advancing the field of quantum encryption.', 'Quantum Computing', 'closed'),\n",
    "# (17, 'AI for Healthcare', '2024-03-22', 'Developing AI solutions to improve healthcare outcomes.', 'Artificial Intelligence', 'open'),\n",
    "# (18, 'Blockchain Innovation Award', '2024-06-05', 'Creating decentralized applications that solve real problems.', 'Blockchain', 'closed'),\n",
    "# (19, 'Renewable Resources Hackathon', '2024-08-15', 'Innovating in the use of renewable resources for sustainable development.', 'Sustainable Energy', 'open'),\n",
    "# (20, 'Digital Art and Design Contest', '2024-10-01', 'A competition for artists and designers to showcase their digital creations.', 'Digital Art', 'closed');"
   ]
  },
  {
   "cell_type": "code",
   "execution_count": 30,
   "id": "e18106bd",
   "metadata": {},
   "outputs": [],
   "source": [
    "# %%sql \n",
    "# SELECT * FROM Competitions;"
   ]
  },
  {
   "cell_type": "code",
   "execution_count": 55,
   "id": "0332ff34",
   "metadata": {},
   "outputs": [],
   "source": [
    "# %%sql \n",
    "# INSERT INTO Applications (ApplicationID, RequestedAmount, Status, AwardedAmount, principleInvestigatorID, CompetitionID) VALUES \n",
    "# (1, 10000.0, 'open', 12000.0, 1, 1), \n",
    "# (2, 15000.0, 'open', 8000.0, 2, 2), \n",
    "# (3, 20000.0, 'closed', 18000.0, 3, 3), \n",
    "# (4, 25000.0, 'closed', 23000.0, 4, 4), \n",
    "# (5, 12000.0, 'open', 12000.0, 5, 5), \n",
    "# (6, 17000.0, 'closed', 15000.0, 6, 6), \n",
    "# (7, 22000.0, 'open', 24000.0, 7, 7), \n",
    "# (8, 27000.0, 'closed', 25000.0, 8, 8), \n",
    "# (9, 13000.0, 'open', 11000.0, 9, 9), \n",
    "# (10, 18000.0, 'closed', 16000.0, 10, 10), \n",
    "# (11, 23000.0, 'open', 23000.0, 11, 11);"
   ]
  },
  {
   "cell_type": "code",
   "execution_count": 54,
   "id": "3ea0d03d",
   "metadata": {},
   "outputs": [],
   "source": [
    "# %%sql \n",
    "# SELECT * FROM Applications;"
   ]
  },
  {
   "cell_type": "code",
   "execution_count": 81,
   "id": "c7d9748f",
   "metadata": {},
   "outputs": [
    {
     "name": "stdout",
     "output_type": "stream",
     "text": [
      " * sqlite:///council.db\n",
      "22 rows affected.\n"
     ]
    },
    {
     "data": {
      "text/plain": [
       "[]"
      ]
     },
     "execution_count": 81,
     "metadata": {},
     "output_type": "execute_result"
    }
   ],
   "source": [
    "# %%sql\n",
    "# INSERT INTO WorkOn (ApplicationID, ResearcherID) VALUES\n",
    "# (1, 12), (1, 13), \n",
    "# (2, 14), (2, 15),\n",
    "# (3, 16), (3, 17),\n",
    "# (4, 18), (4, 19),\n",
    "# (5, 20), (5, 21),\n",
    "# (6, 22), (6, 23),\n",
    "# (7, 24), (7, 25),\n",
    "# (8, 26), (8, 27),\n",
    "# (9, 28), (9, 29),\n",
    "# (10, 30), (10, 31),\n",
    "# (11, 32), (11, 33);"
   ]
  },
  {
   "cell_type": "code",
   "execution_count": 94,
   "id": "20e23c68",
   "metadata": {},
   "outputs": [],
   "source": [
    "# %%sql \n",
    "# SELECT * FROM WorkOn;"
   ]
  },
  {
   "cell_type": "code",
   "execution_count": 84,
   "id": "aa0ec2a4",
   "metadata": {},
   "outputs": [
    {
     "name": "stdout",
     "output_type": "stream",
     "text": [
      " * sqlite:///council.db\n",
      "33 rows affected.\n"
     ]
    },
    {
     "data": {
      "text/plain": [
       "[]"
      ]
     },
     "execution_count": 84,
     "metadata": {},
     "output_type": "execute_result"
    }
   ],
   "source": [
    "# %%sql\n",
    "# INSERT INTO Reviews (ApplicationID, ReviewerID)\n",
    "# VALUES \n",
    "# (1, 34), (1, 35), (1, 36),\n",
    "# (2, 37), (2, 38), (2, 39),\n",
    "# (3, 40), (3, 41), (3, 42),\n",
    "# (4, 43), (4, 44), (4, 45),\n",
    "# (5, 46), (5, 47), (5, 48),\n",
    "# (6, 49), (6, 50), (6, 51),\n",
    "# (7, 52), (7, 53), (7, 54),\n",
    "# (8, 55), (8, 56), (8, 57),\n",
    "# (9, 58), (9, 59), (9, 60),\n",
    "# (10, 61), (10, 62), (10, 63),\n",
    "# (11, 64), (11, 65), (11, 66);\n"
   ]
  },
  {
   "cell_type": "code",
   "execution_count": 96,
   "id": "28fded2a",
   "metadata": {},
   "outputs": [],
   "source": [
    "# %%sql \n",
    "# SELECT * FROM Review;"
   ]
  },
  {
   "cell_type": "code",
   "execution_count": 98,
   "id": "03fc5c73",
   "metadata": {},
   "outputs": [
    {
     "name": "stdout",
     "output_type": "stream",
     "text": [
      " * sqlite:///council.db\n",
      "5 rows affected.\n"
     ]
    },
    {
     "data": {
      "text/plain": [
       "[]"
      ]
     },
     "execution_count": 98,
     "metadata": {},
     "output_type": "execute_result"
    }
   ],
   "source": [
    "# %%sql\n",
    "# INSERT INTO Meetings (MeetingID, Date) VALUES\n",
    "# (1, '2023-04-22'),\n",
    "# (2, '2023-04-26'),\n",
    "# (3, '2023-12-02'),\n",
    "# (4, '2023-04-15'),\n",
    "# (5, '2023-02-12');\n"
   ]
  },
  {
   "cell_type": "code",
   "execution_count": 104,
   "id": "39d856df",
   "metadata": {},
   "outputs": [
    {
     "name": "stdout",
     "output_type": "stream",
     "text": [
      " * sqlite:///council.db\n",
      "20 rows affected.\n"
     ]
    },
    {
     "data": {
      "text/plain": [
       "[]"
      ]
     },
     "execution_count": 104,
     "metadata": {},
     "output_type": "execute_result"
    }
   ],
   "source": [
    "# %%sql \n",
    "# INSERT INTO MeetingsCompetitionList (MeetingID, CompetitionID) VALUES\n",
    "# (1, 1), (1, 6), (1, 11), (1, 16),\n",
    "# (2, 2), (2, 7), (2, 12), (2, 17),\n",
    "# (3, 3), (3, 8), (3, 13), (3, 18), \n",
    "# (4, 4), (4, 9), (4, 14), (4, 19),\n",
    "# (5, 5), (5, 10), (5, 15), (5, 20);\n"
   ]
  },
  {
   "cell_type": "code",
   "execution_count": null,
   "id": "dfa64edc",
   "metadata": {},
   "outputs": [],
   "source": []
  }
 ],
 "metadata": {
  "kernelspec": {
   "display_name": "Python 3 (ipykernel)",
   "language": "python",
   "name": "python3"
  },
  "language_info": {
   "codemirror_mode": {
    "name": "ipython",
    "version": 3
   },
   "file_extension": ".py",
   "mimetype": "text/x-python",
   "name": "python",
   "nbconvert_exporter": "python",
   "pygments_lexer": "ipython3",
   "version": "3.11.5"
  }
 },
 "nbformat": 4,
 "nbformat_minor": 5
}
