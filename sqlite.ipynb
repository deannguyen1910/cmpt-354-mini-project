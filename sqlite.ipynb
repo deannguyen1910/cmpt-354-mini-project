{
 "cells": [
  {
   "cell_type": "code",
   "execution_count": 1,
   "id": "10df9ac2",
   "metadata": {},
   "outputs": [],
   "source": [
    "%load_ext sql"
   ]
  },
  {
   "cell_type": "code",
   "execution_count": 2,
   "id": "e128b510",
   "metadata": {},
   "outputs": [],
   "source": [
    "%sql sqlite:///council.db"
   ]
  },
  {
   "cell_type": "code",
   "execution_count": 10,
   "id": "109951e3",
   "metadata": {},
   "outputs": [],
   "source": [
    "# %%sql\n",
    "# CREATE TABLE Researchers (\n",
    "#     ResearcherID INT PRIMARY KEY,\n",
    "#     FirstName VARCHAR(255),\n",
    "#     LastName VARCHAR(255),\n",
    "#     Email VARCHAR(255),\n",
    "#     Organization VARCHAR(255)\n",
    "# );"
   ]
  },
  {
   "cell_type": "code",
   "execution_count": 11,
   "id": "640bf15a",
   "metadata": {},
   "outputs": [],
   "source": [
    "# %%sql\n",
    "# CREATE TABLE Competitions (\n",
    "#     CompetitionID INT PRIMARY KEY,\n",
    "#     Title VARCHAR(255),\n",
    "#     ApplicationDeadline DATE,\n",
    "#     Description TEXT,\n",
    "#     Area VARCHAR(255),\n",
    "#     Status VARCHAR(255)\n",
    "# );"
   ]
  },
  {
   "cell_type": "code",
   "execution_count": 12,
   "id": "573b38d2",
   "metadata": {},
   "outputs": [],
   "source": [
    "# %%sql \n",
    "# CREATE TABLE Proposals (\n",
    "#     ProposalID INT PRIMARY KEY,\n",
    "#     RequestedAmount DECIMAL(10, 2),\n",
    "#     Status VARCHAR(255),\n",
    "#     AwardedAmount DECIMAL(10, 2),\n",
    "#     Date DATE,\n",
    "#     CompetitionID INT,\n",
    "#     PrincipalInvestigator INT,\n",
    "#     FOREIGN KEY (CompetitionID) REFERENCES Competitions(CompetitionID),\n",
    "#     FOREIGN KEY (PrincipalInvestigator) REFERENCES Researchers(ResearcherID)\n",
    "# );"
   ]
  },
  {
   "cell_type": "code",
   "execution_count": 13,
   "id": "5999832f",
   "metadata": {},
   "outputs": [],
   "source": [
    "# %%sql \n",
    "# CREATE TABLE Reviewers (\n",
    "#     ReviewerID INT PRIMARY KEY,\n",
    "#     ResearcherID INT,\n",
    "#     FOREIGN KEY (ResearcherID) REFERENCES Researchers(ResearcherID)\n",
    "# );"
   ]
  },
  {
   "cell_type": "code",
   "execution_count": 14,
   "id": "5f3e04f6",
   "metadata": {},
   "outputs": [],
   "source": [
    "# %%sql \n",
    "# CREATE TABLE ConflictOfInterest (\n",
    "#     ReviewerID INT,\n",
    "#     ConflictType VARCHAR(255),\n",
    "#     PRIMARY KEY (ReviewerID),\n",
    "#     FOREIGN KEY (ReviewerID) REFERENCES Reviewers(ReviewerID)\n",
    "# );"
   ]
  },
  {
   "cell_type": "code",
   "execution_count": 15,
   "id": "0b319da0",
   "metadata": {},
   "outputs": [],
   "source": [
    "# %%sql\n",
    "# CREATE TABLE Assignments (\n",
    "#     AssignmentID INT PRIMARY KEY,\n",
    "#     CompetitionID INT,\n",
    "#     ReviewerID INT,\n",
    "#     Deadline DATE,\n",
    "#     ReviewSubmitted BOOLEAN,\n",
    "#     FOREIGN KEY (CompetitionID) REFERENCES Competitions(CompetitionID),\n",
    "#     FOREIGN KEY (ReviewerID) REFERENCES Reviewers(ReviewerID)\n",
    "# );"
   ]
  },
  {
   "cell_type": "code",
   "execution_count": 16,
   "id": "a21102e9",
   "metadata": {},
   "outputs": [],
   "source": [
    "# %%sql \n",
    "# CREATE TABLE Meetings (\n",
    "#     MeetingID INT PRIMARY KEY,\n",
    "#     Date DATE\n",
    "# );"
   ]
  },
  {
   "cell_type": "code",
   "execution_count": null,
   "id": "195aed23",
   "metadata": {},
   "outputs": [],
   "source": []
  }
 ],
 "metadata": {
  "kernelspec": {
   "display_name": "Python 3 (ipykernel)",
   "language": "python",
   "name": "python3"
  },
  "language_info": {
   "codemirror_mode": {
    "name": "ipython",
    "version": 3
   },
   "file_extension": ".py",
   "mimetype": "text/x-python",
   "name": "python",
   "nbconvert_exporter": "python",
   "pygments_lexer": "ipython3",
   "version": "3.11.5"
  }
 },
 "nbformat": 4,
 "nbformat_minor": 5
}
