{
 "cells": [
  {
   "cell_type": "code",
   "execution_count": 1,
   "id": "10df9ac2",
   "metadata": {},
   "outputs": [],
   "source": [
    "%load_ext sql\n"
   ]
  },
  {
   "cell_type": "code",
   "execution_count": 2,
   "id": "e128b510",
   "metadata": {},
   "outputs": [],
   "source": [
    "%sql sqlite:///council.db"
   ]
  },
  {
   "cell_type": "code",
   "execution_count": 171,
   "id": "d5b4eaed",
   "metadata": {},
   "outputs": [
    {
     "name": "stdout",
     "output_type": "stream",
     "text": [
      " * sqlite:///council.db\n",
      "Done.\n",
      "Done.\n"
     ]
    },
    {
     "data": {
      "text/plain": [
       "[]"
      ]
     },
     "execution_count": 171,
     "metadata": {},
     "output_type": "execute_result"
    }
   ],
   "source": [
    "# %%sql\n",
    "# DROP TABLE Researchers;\n",
    "# CREATE TABLE Researchers (\n",
    "#     ResearcherID INT PRIMARY KEY,\n",
    "#     FirstName VARCHAR(255),\n",
    "#     LastName VARCHAR(255),\n",
    "#     Email VARCHAR(255),\n",
    "#     Organization VARCHAR(255)\n",
    "# );"
   ]
  },
  {
   "cell_type": "code",
   "execution_count": 180,
   "id": "5e07fb54",
   "metadata": {},
   "outputs": [
    {
     "name": "stdout",
     "output_type": "stream",
     "text": [
      " * sqlite:///council.db\n",
      "Done.\n",
      "Done.\n"
     ]
    },
    {
     "data": {
      "text/plain": [
       "[]"
      ]
     },
     "execution_count": 180,
     "metadata": {},
     "output_type": "execute_result"
    }
   ],
   "source": [
    "# %%sql \n",
    "# DROP TABLE Competitions;\n",
    "# CREATE TABLE Competitions (\n",
    "#     CompetitionID INT PRIMARY KEY,\n",
    "#     Title VARCHAR(255),\n",
    "#     SubmittedDate DATE,\n",
    "#     Description TEXT,\n",
    "#     Area VARCHAR(255),\n",
    "#     Status VARCHAR(255)\n",
    "# );"
   ]
  },
  {
   "cell_type": "code",
   "execution_count": 186,
   "id": "011165f2",
   "metadata": {},
   "outputs": [
    {
     "name": "stdout",
     "output_type": "stream",
     "text": [
      " * sqlite:///council.db\n",
      "Done.\n",
      "Done.\n"
     ]
    },
    {
     "data": {
      "text/plain": [
       "[]"
      ]
     },
     "execution_count": 186,
     "metadata": {},
     "output_type": "execute_result"
    }
   ],
   "source": [
    "# %%sql \n",
    "# DROP TABLE Applications;\n",
    "# CREATE TABLE Applications (\n",
    "#     ApplicationID INT PRIMARY KEY,\n",
    "#     RequestedAmount DECIMAL(10,2),\n",
    "#     Status VARCHAR(255),\n",
    "#     Deadline DATE,\n",
    "#     AwardedAmount DECIMAL(10,2),\n",
    "#     principleInvestigatorID INT,\n",
    "#     CompetitionID INT,\n",
    "#     FOREIGN KEY (principleInvestigatorID) REFERENCES Researchers(ResearcherID),\n",
    "#     FOREIGN KEY (CompetitionID) REFERENCES Competitions(CompetitionID)\n",
    "# );"
   ]
  },
  {
   "cell_type": "code",
   "execution_count": 219,
   "id": "2bcf4255",
   "metadata": {
    "scrolled": true
   },
   "outputs": [
    {
     "name": "stdout",
     "output_type": "stream",
     "text": [
      " * sqlite:///council.db\n",
      "Done.\n",
      "Done.\n"
     ]
    },
    {
     "data": {
      "text/plain": [
       "[]"
      ]
     },
     "execution_count": 219,
     "metadata": {},
     "output_type": "execute_result"
    }
   ],
   "source": [
    "# %%sql \n",
    "# DROP TABLE WorkOn;\n",
    "# CREATE TABLE WorkOn (\n",
    "#     ApplicationID INT,\n",
    "#     ResearcherID INT,\n",
    "#     FOREIGN KEY (ApplicationID) REFERENCES Application(ApplicationID)\n",
    "#     FOREIGN KEY (ResearcherID) REFERENCES Researchers(ResearcherID)\n",
    "# );"
   ]
  },
  {
   "cell_type": "code",
   "execution_count": 316,
   "id": "de412ce7",
   "metadata": {},
   "outputs": [
    {
     "name": "stdout",
     "output_type": "stream",
     "text": [
      " * sqlite:///council.db\n",
      "Done.\n",
      "Done.\n"
     ]
    },
    {
     "data": {
      "text/plain": [
       "[]"
      ]
     },
     "execution_count": 316,
     "metadata": {},
     "output_type": "execute_result"
    }
   ],
   "source": [
    "# %%sql \n",
    "# DROP TABLE Review;\n",
    "# CREATE TABLE Review (\n",
    "#     ApplicationID INT,\n",
    "#     ReviewID INT,\n",
    "#     FOREIGN KEY (ApplicationID) REFERENCES Application(ApplicationID)\n",
    "#     FOREIGN KEY (ReviewID) REFERENCES Researchers(ResearcherID)\n",
    "# );"
   ]
  },
  {
   "cell_type": "code",
   "execution_count": 115,
   "id": "08a68650",
   "metadata": {},
   "outputs": [],
   "source": [
    "# %%sql \n",
    "# CREATE TABLE Meetings (\n",
    "#     MeetingID INT PRIMARY KEY,\n",
    "#     Date DATE,\n",
    "# );"
   ]
  },
  {
   "cell_type": "code",
   "execution_count": 116,
   "id": "a21ac8e0",
   "metadata": {},
   "outputs": [],
   "source": [
    "# %%sql \n",
    "# CREATE TABLE MeetingsCompetitionList (\n",
    "#     MeetingID INT,\n",
    "#     CompetitionID INT,\n",
    "#     FOREIGN KEY (CompetitionID) REFERENCES Competitions(CompetitionID)\n",
    "# );"
   ]
  },
  {
   "cell_type": "code",
   "execution_count": null,
   "id": "39fb0969",
   "metadata": {},
   "outputs": [],
   "source": [
    "# %%sql\n",
    "# CREATE TABLE MeetingsReviewerIDList (\n",
    "#     MeetingID INT,\n",
    "#     ReviewerID INT,\n",
    "#     FOREIGN KEY (ReviewerID) REFERENCES Researchers(ResearcherID)\n",
    "# );"
   ]
  },
  {
   "cell_type": "code",
   "execution_count": 330,
   "id": "1a03a838",
   "metadata": {},
   "outputs": [],
   "source": [
    "# %%sql\n",
    "# INSERT INTO Researchers (ResearcherID, FirstName, LastName, Email, Organization) VALUES \n",
    "# (1, 'Karen', 'Davis', 'josephwright@hotmail.com', 'University of Victoria'), \n",
    "# (2, 'Charles', 'Ayers', 'darlenediaz@hotmail.com', 'University of Victoria'), \n",
    "# (3, 'Justin', 'Smith', 'jessicarobinson@hahn.com', 'University of British Columbia'), \n",
    "# (4, 'Jeffrey', 'Whitney', 'ybutler@yahoo.com', 'University of Victoria'), \n",
    "# (5, 'Evan', 'Obrien', 'valeriewest@leonard.com', 'University of Victoria'), \n",
    "# (6, 'Gabrielle', 'Conway', 'jcohen@ellison.com', 'University of British Columbia'), \n",
    "# (7, 'Paul', 'Green', 'kfranklin@hotmail.com', 'McGill University'), \n",
    "# (8, 'Rodney', 'Yoder', 'gregory44@gilbert-ramos.info', 'Simon Fraser University'), \n",
    "# (9, 'Jennifer', 'Hill', 'kristinmarshall@meyers.com', 'University of Victoria'), \n",
    "# (10, 'Michael', 'Li', 'johnsonstephanie@yahoo.com', 'Simon Fraser University'), \n",
    "# (11, 'Stephanie', 'Medina', 'amyfowler@hernandez.com', 'University of British Columbia'), \n",
    "# (12, 'Jason', 'Rodriguez', 'bcarr@hotmail.com', 'University of Victoria'), \n",
    "# (13, 'Michael', 'Vance', 'sosaamanda@gmail.com', 'University of Victoria'), \n",
    "# (14, 'Paige', 'Villarreal', 'nfowler@yahoo.com', 'Simon Fraser University'), \n",
    "# (15, 'Victoria', 'Diaz', 'amyrandolph@krause.com', 'University of Victoria'), \n",
    "# (16, 'Dennis', 'Greene', 'patriciastokes@phillips.com', 'University of British Columbia'), \n",
    "# (17, 'David', 'Estrada', 'kylejackson@yahoo.com', 'University of British Columbia'), \n",
    "# (18, 'Paige', 'Mcguire', 'hardincathy@rivera-wolfe.net', 'University of British Columbia'), \n",
    "# (19, 'Charles', 'Murphy', 'sanchezjanet@hotmail.com', 'University of Victoria'), \n",
    "# (20, 'Anna', 'Case', 'patrick72@mclaughlin-smith.com', 'Simon Fraser University'),\n",
    "# (21, 'Lisa', 'Parker', 'audreygoodwin@munoz.info', 'Simon Fraser University'), \n",
    "# (22, 'Jesse', 'Burch', 'perezjustin@gmail.com', 'University of British Columbia'), \n",
    "# (23, 'Richard', 'Salazar', 'faith38@perez.com', 'University of Victoria'), \n",
    "# (24, 'Daniel', 'Moore', 'cheryljohnson@gmail.com', 'University of British Columbia'), \n",
    "# (25, 'Samantha', 'Freeman', 'michelle62@schneider.org', 'University of Victoria'), \n",
    "# (26, 'Joshua', 'Thomas', 'wmorris@gmail.com', 'McGill University'), \n",
    "# (27, 'John', 'Carter', 'haleynicole@yahoo.com', 'University of British Columbia'), \n",
    "# (28, 'Ashley', 'Wilson', 'brianroberts@yahoo.com', 'Simon Fraser University'), \n",
    "# (29, 'Angela', 'Martinez', 'millerchristopher@hotmail.com', 'McGill University'), \n",
    "# (30, 'Heather', 'Anderson', 'robertlopez@hotmail.com', 'University of British Columbia'), \n",
    "# (31, 'Michelle', 'Hernandez', 'shannon16@walker.com', 'University of Victoria'), \n",
    "# (32, 'Elizabeth', 'Robinson', 'robertsbrandon@wilson.com', 'Simon Fraser University'), \n",
    "# (33, 'Nicholas', 'Brown', 'robertmartinez@hotmail.com', 'University of British Columbia'), \n",
    "# (34, 'Christopher', 'Lee', 'sandra34@yahoo.com', 'University of Victoria'), \n",
    "# (35, 'Jessica', 'Garcia', 'hilldavid@gmail.com', 'McGill University'), \n",
    "# (36, 'Matthew', 'Martinez', 'jessica26@harris.info', 'Simon Fraser University'), \n",
    "# (37, 'Laura', 'Mitchell', 'scottkelly@barnes.com', 'University of Victoria'), \n",
    "# (38, 'Brian', 'Taylor', 'annawilliams@gmail.com', 'University of British Columbia'), \n",
    "# (39, 'Kimberly', 'White', 'dianawilson@yahoo.com', 'McGill University'), \n",
    "# (40, 'Gregory', 'Anderson', 'lopezchristopher@hotmail.com', 'Simon Fraser University'),\n",
    "# (41, 'Amanda', 'Gonzalez', 'shirleybaker@yahoo.com', 'McGill University'), \n",
    "# (42, 'Brittany', 'Smith', 'carolyn91@williams-garcia.com', 'University of Victoria'), \n",
    "# (43, 'Megan', 'Clark', 'samantha58@yahoo.com', 'Simon Fraser University'), \n",
    "# (44, 'Melissa', 'Lopez', 'michaelscott@hughes.biz', 'University of British Columbia'), \n",
    "# (45, 'Christina', 'Harris', 'bakerkenneth@jones.com', 'University of Victoria'), \n",
    "# (46, 'Ashley', 'Martin', 'davidsonkelly@hernandez.com', 'McGill University'), \n",
    "# (47, 'Nicole', 'Allen', 'wilsonmichael@yahoo.com', 'Simon Fraser University'), \n",
    "# (48, 'Emily', 'Young', 'sandersjames@wilson.org', 'University of British Columbia'), \n",
    "# (49, 'Stephanie', 'Hernandez', 'elizabethgarcia@gmail.com', 'University of Victoria'), \n",
    "# (50, 'Samantha', 'King', 'jennifer63@perez-jones.com', 'McGill University'), \n",
    "# (51, 'Elizabeth', 'Wright', 'patriciawilliams@yahoo.com', 'Simon Fraser University'), \n",
    "# (52, 'Lauren', 'Martinez', 'danielleclark@williams.com', 'University of British Columbia'), \n",
    "# (53, 'Rachel', 'Taylor', 'gregorylee@anderson.com', 'University of Victoria'), \n",
    "# (54, 'Sarah', 'Moore', 'hannahmartinez@gmail.com', 'McGill University'), \n",
    "# (55, 'Daniel', 'Anderson', 'brianwhite@brown.com', 'Simon Fraser University'), \n",
    "# (56, 'Christopher', 'Miller', 'smithbrian@rodriguez.com', 'University of British Columbia'), \n",
    "# (57, 'Matthew', 'Davis', 'robinsonmichael@hotmail.com', 'University of Victoria'), \n",
    "# (58, 'Andrew', 'Martinez', 'patricia55@lee.com', 'McGill University'), \n",
    "# (59, 'Joseph', 'Taylor', 'garciamark@jones-roberts.com', 'Simon Fraser University'), \n",
    "# (60, 'Ryan', 'Garcia', 'michael34@gmail.com', 'University of British Columbia');"
   ]
  },
  {
   "cell_type": "code",
   "execution_count": 93,
   "id": "b53d561d",
   "metadata": {},
   "outputs": [],
   "source": [
    "# %%sql\n",
    "# SELECT * FROM Researchers;"
   ]
  },
  {
   "cell_type": "code",
   "execution_count": 329,
   "id": "1f0ed550",
   "metadata": {},
   "outputs": [],
   "source": [
    "# %%sql\n",
    "# INSERT INTO Competitions (CompetitionID, Title, SubmittedDate, Description, Area, Status) VALUES\n",
    "# (1, 'Big Data Challenge 2024', '2024-12-31', 'A challenge to solve big data problems using innovative solutions.', 'Big Data', 'open'),\n",
    "# (2, 'Quantum Computing Quest', '2024-06-30', 'Exploring the potentials of quantum computing in solving complex calculations.', 'Quantum Computer', 'open'),\n",
    "# (3, 'AI Innovation Award 2024', '2024-09-15', 'A competition to create the most innovative AI-driven applications.', 'Artificial Intelligence', 'closed'),\n",
    "# (4, 'Global Biology Olympiad', '2024-11-20', 'An international competition for high school students to demonstrate their biology knowledge.', 'Biology', 'open'),\n",
    "# (5, 'Computer Science Hackathon', '2024-08-05', 'A 48-hour marathon for developing software that addresses a specific challenge.', 'Computer Science', 'closed'),\n",
    "# (6, 'Future of Robotics', '2024-07-19', 'Competition focusing on advancements in robotics technology and design.', 'Robotics', 'open'),\n",
    "# (7, 'Cybersecurity Grand Challenge', '2024-10-10', 'Identify and solve cybersecurity threats in innovative ways.', 'Cybersecurity', 'closed'),\n",
    "# (8, 'Virtual Reality Innovators', '2024-05-22', 'Creating immersive virtual reality experiences for various applications.', 'Virtual Reality', 'open'),\n",
    "# (9, 'Sustainable Energy Solutions', '2024-03-30', 'Competitions to find sustainable and renewable energy solutions.', 'Sustainable Energy', 'closed'),\n",
    "# (10, 'Genetic Engineering Hack', '2024-04-15', 'A contest to showcase breakthroughs in genetic engineering.', 'Genetic Engineering', 'open'),\n",
    "# (11, 'Deep Learning Discoveries', '2024-02-28', 'A contest for breakthroughs in deep learning techniques.', 'Deep Learning', 'open'),\n",
    "# (12, 'Nanotechnology Innovations', '2024-04-30', 'Pushing the boundaries of nanotech to solve real-world problems.', 'Nanotechnology', 'closed'),\n",
    "# (13, 'Space Exploration Challenge', '2024-07-15', 'Designing innovative technologies for space exploration.', 'Space Technology', 'open'),\n",
    "# (14, 'Marine Biology Research', '2024-09-30', 'Encouraging young scientists to present their marine biology research.', 'Marine Biology', 'closed'),\n",
    "# (15, 'Cloud Computing Advancements', '2024-11-20', 'A showcase of innovative cloud computing solutions.', 'Cloud Computing', 'open'),\n",
    "# (16, 'Quantum Encryption Breakthrough', '2024-01-15', 'Advancing the field of quantum encryption.', 'Quantum Computing', 'closed'),\n",
    "# (17, 'AI for Healthcare', '2024-03-22', 'Developing AI solutions to improve healthcare outcomes.', 'Artificial Intelligence', 'open'),\n",
    "# (18, 'Blockchain Innovation Award', '2024-06-05', 'Creating decentralized applications that solve real problems.', 'Blockchain', 'closed'),\n",
    "# (19, 'Renewable Resources Hackathon', '2024-08-15', 'Innovating in the use of renewable resources for sustainable development.', 'Sustainable Energy', 'open'),\n",
    "# (20, 'Digital Art and Design Contest', '2024-10-01', 'A competition for artists and designers to showcase their digital creations.', 'Digital Art', 'closed');"
   ]
  },
  {
   "cell_type": "code",
   "execution_count": 30,
   "id": "49296b56",
   "metadata": {},
   "outputs": [],
   "source": [
    "# %%sql \n",
    "# SELECT * FROM Competitions;"
   ]
  },
  {
   "cell_type": "code",
   "execution_count": 222,
   "id": "6fd8898d",
   "metadata": {},
   "outputs": [],
   "source": [
    "# %%sql \n",
    "# INSERT INTO Applications (ApplicationID, RequestedAmount, Status, Deadline, AwardedAmount, principleInvestigatorID, CompetitionID) VALUES \n",
    "# (1, 100000.00, 'Submitted', '2024-05-01', 0.00, 1, 1),\n",
    "# (2, 85000.50, 'Submitted', '2024-06-15', 0.00, 2, 2),\n",
    "# (3, 75000.00, 'Award', '2024-07-20', 50000.00, 3, 3),\n",
    "# (4, 50000.00, 'Submitted', '2024-08-05', 0.00, 4, 4),\n",
    "# (5, 120000.00, 'Submitted', '2024-09-10', 0.00, 5, 5),\n",
    "# (6, 95000.00, 'Submitted', '2024-10-15', 0.00, 6, 6),\n",
    "# (7, 110000.00, 'Award', '2024-11-20', 75000.00, 7, 7),\n",
    "# (8, 130000.00, 'Submitted', '2024-12-25', 0.00, 8, 8),\n",
    "# (9, 140000.00, 'Submitted', '2025-01-30', 0.00, 9, 9),\n",
    "# (10, 60000.00, 'Submitted', '2025-03-07', 0.00, 10, 10),\n",
    "# (11, 70000.00, 'Award', '2025-04-12', 40000.00, 11, 11);"
   ]
  },
  {
   "cell_type": "code",
   "execution_count": 54,
   "id": "64f8573d",
   "metadata": {},
   "outputs": [],
   "source": [
    "# %%sql \n",
    "# SELECT * FROM Applications;"
   ]
  },
  {
   "cell_type": "code",
   "execution_count": 221,
   "id": "03664d8a",
   "metadata": {},
   "outputs": [],
   "source": [
    "# %%sql\n",
    "# INSERT INTO WorkOn (ApplicationID, ResearcherID) VALUES\n",
    "# (1, 1), (2, 2),\n",
    "# (3, 3), (4, 4), \n",
    "# (5, 5), (6, 6),\n",
    "# (7, 7), (8, 8),\n",
    "# (9, 9), (10, 10),\n",
    "# (11, 11),\n",
    "# (1, 12), (1, 13), \n",
    "# (2, 14), (2, 15),\n",
    "# (3, 16), (3, 17),\n",
    "# (4, 18), (4, 19),\n",
    "# (5, 20), (5, 21),\n",
    "# (6, 22), (6, 23),\n",
    "# (7, 24), (7, 25),\n",
    "# (8, 26), (8, 27),\n",
    "# (9, 28), (9, 29),\n",
    "# (10, 30), (10, 31),\n",
    "# (11, 32), (11, 33);"
   ]
  },
  {
   "cell_type": "code",
   "execution_count": 94,
   "id": "67a7392d",
   "metadata": {},
   "outputs": [],
   "source": [
    "# %%sql \n",
    "# SELECT * FROM WorkOn;"
   ]
  },
  {
   "cell_type": "code",
   "execution_count": 328,
   "id": "aa0eeeea",
   "metadata": {},
   "outputs": [],
   "source": [
    "# %%sql\n",
    "# INSERT INTO Review (ApplicationID, ReviewID)\n",
    "# VALUES \n",
    "# (1, 34), (1, 35), (1, 36),\n",
    "# (2, 37), (2, 38), (2, 39),\n",
    "# (3, 41), (3, 42),\n",
    "# (4, 43), (4, 44), (4, 45),\n",
    "# (5, 46), (5, 47), (5, 48),\n",
    "# (6, 49), (6, 51),\n",
    "# (7, 52), (7, 54),\n",
    "# (8, 55), (8, 56), (8, 57),\n",
    "# (9, 58), (9, 59), (9, 60),\n",
    "# (10, 61), (10, 62), (10, 63),\n",
    "# (11, 64), (11, 65);\n"
   ]
  },
  {
   "cell_type": "code",
   "execution_count": 96,
   "id": "a3729661",
   "metadata": {},
   "outputs": [],
   "source": [
    "# %%sql \n",
    "# SELECT * FROM Review;"
   ]
  },
  {
   "cell_type": "code",
   "execution_count": 327,
   "id": "fef26ffc",
   "metadata": {},
   "outputs": [],
   "source": [
    "# %%sql\n",
    "# INSERT INTO Meetings (MeetingID, Date) VALUES\n",
    "# (1, '2023-04-22'),\n",
    "# (2, '2023-04-26'),\n",
    "# (3, '2023-12-02'),\n",
    "# (4, '2023-04-15'),\n",
    "# (5, '2023-02-12');\n"
   ]
  },
  {
   "cell_type": "code",
   "execution_count": 326,
   "id": "29dae83a",
   "metadata": {},
   "outputs": [],
   "source": [
    "# %%sql \n",
    "# INSERT INTO MeetingsCompetitionList (MeetingID, CompetitionID) VALUES\n",
    "# (1, 1), (1, 6), (1, 11), (1, 16),\n",
    "# (2, 2), (2, 7), (2, 12), (2, 17),\n",
    "# (3, 3), (3, 8), (3, 13), (3, 18), \n",
    "# (4, 4), (4, 9), (4, 14), (4, 19),\n",
    "# (5, 5), (5, 10), (5, 15), (5, 20);\n"
   ]
  },
  {
   "cell_type": "code",
   "execution_count": 297,
   "id": "89708411",
   "metadata": {},
   "outputs": [],
   "source": [
    "# %%sql\n",
    "# SELECT *\n",
    "# FROM Applications\n",
    "# JOIN Competitions ON Competitions.CompetitionID = Applications.CompetitionID\n",
    "# WHERE Competitions.Area = 'Computer Science';"
   ]
  },
  {
   "cell_type": "code",
   "execution_count": 298,
   "id": "12db3e5b",
   "metadata": {},
   "outputs": [],
   "source": [
    "# %%sql\n",
    "# SELECT Applications.* \n",
    "# FROM Applications\n",
    "# WHERE AwardedAmount = (\n",
    "#     SELECT MAX(Applications.AwardedAmount) \n",
    "#     FROM Applications\n",
    "#     JOIN Competitions ON Applications.CompetitionID = Competitions.CompetitionID\n",
    "#     WHERE Competitions.SubmittedDate < '2024-10-10'\n",
    "# );"
   ]
  },
  {
   "cell_type": "code",
   "execution_count": 325,
   "id": "6cc4a771",
   "metadata": {},
   "outputs": [],
   "source": [
    "# %%sql \n",
    "# SELECT AVG(ABS(AwardedAmount - RequestedAmount)) FROM Applications \n",
    "# WHERE Applications.CompetitionID = (\n",
    "#     SELECT CompetitionID FROM Competitions\n",
    "#     WHERE Area = 'Biology'\n",
    "# )"
   ]
  },
  {
   "cell_type": "code",
   "execution_count": 324,
   "id": "67e90f41",
   "metadata": {},
   "outputs": [],
   "source": [
    "# %%sql \n",
    "# SELECT * FROM Applications\n",
    "# WHERE ApplicationID == (\n",
    "#     SELECT ApplicationID FROM Review\n",
    "#     WHERE Review.ReviewID == (\n",
    "#         SELECT Researchers.ResearcherID FROM Researchers\n",
    "#         WHERE Researchers.FirstName == 'Emily' AND Researchers.LastName ==  'Young'\n",
    "#         )\n",
    "# )"
   ]
  },
  {
   "cell_type": "code",
   "execution_count": 285,
   "id": "323ab4dd",
   "metadata": {},
   "outputs": [],
   "source": [
    "\n",
    "# %%sql \n",
    "# SELECT * FROM Applications\n",
    "# WHERE ApplicationID IN (\n",
    "#     SELECT ApplicationID\n",
    "#     FROM Review\n",
    "#     GROUP BY ApplicationID\n",
    "#     HAVING COUNT(DISTINCT ReviewID) < 3\n",
    "# )"
   ]
  },
  {
   "cell_type": "code",
   "execution_count": 323,
   "id": "cf3a9f46",
   "metadata": {},
   "outputs": [],
   "source": [
    "# %%sql \n",
    "# SELECT * FROM Researchers\n",
    "# WHERE Organization NOT IN (\n",
    "#     SELECT Organization FROM Researchers \n",
    "#     WHERE ResearcherID IN (\n",
    "#         SELECT R1.ReviewID\n",
    "#         FROM Review R1\n",
    "#         JOIN Review R2 ON R1.ApplicationID = R2.ApplicationID\n",
    "#         WHERE R2.ReviewID = 45\n",
    "#     )\n",
    "# )"
   ]
  },
  {
   "cell_type": "code",
   "execution_count": 322,
   "id": "31d92943",
   "metadata": {},
   "outputs": [],
   "source": [
    "# %%sql\n",
    "# SELECT R1.ReviewID\n",
    "#     FROM Review R1\n",
    "#     JOIN Review R2 ON R1.ApplicationID = R2.ApplicationID\n",
    "#     WHERE R2.ReviewID = 45"
   ]
  },
  {
   "cell_type": "code",
   "execution_count": 321,
   "id": "781b6d14",
   "metadata": {},
   "outputs": [],
   "source": [
    "# %%sql\n",
    "# SELECT A.Deadline\n",
    "# FROM Applications A\n",
    "# JOIN Review R ON A.ApplicationID = R.ApplicationID\n",
    "# WHERE R.ReviewID IN (\n",
    "#     SELECT R1.ReviewID\n",
    "#     FROM Review R1\n",
    "#     JOIN Review R2 ON R1.ApplicationID = R2.ApplicationID\n",
    "#     WHERE R2.ReviewID = 44\n",
    "#     AND R1.ReviewID != R2.ReviewID)"
   ]
  },
  {
   "cell_type": "code",
   "execution_count": 320,
   "id": "f4d3ee7a",
   "metadata": {},
   "outputs": [],
   "source": [
    "# %%sql\n",
    "#     SELECT R1.ReviewID\n",
    "#     FROM Review R1\n",
    "#     JOIN Review R2 ON R1.ApplicationID = R2.ApplicationID\n",
    "#     WHERE R2.ReviewID = 44\n",
    "#     AND R1.ReviewID != R2.ReviewID"
   ]
  },
  {
   "cell_type": "code",
   "execution_count": 319,
   "id": "4a8f9daf",
   "metadata": {},
   "outputs": [],
   "source": [
    "# %%sql\n",
    "# SELECT c.CompetitionID, c.Title\n",
    "# FROM Competitions c\n",
    "# INNER JOIN (\n",
    "#     SELECT CompetitionID\n",
    "#     FROM Applications\n",
    "#     WHERE (ApplicationID IN (\n",
    "#             SELECT ApplicationID\n",
    "#             FROM (\n",
    "#                 SELECT ApplicationID, COUNT(*) AS participants\n",
    "#                 FROM workOn\n",
    "#                 GROUP BY ApplicationID\n",
    "#             )\n",
    "#             WHERE participants >= 10\n",
    "#         )\n",
    "#         OR RequestedAmount >= 20000\n",
    "#     )\n",
    "# ) AS a\n",
    "# ON c.CompetitionID = a.CompetitionID\n",
    "# WHERE strftime('%m', SubmittedDate) < '12';"
   ]
  },
  {
   "cell_type": "code",
   "execution_count": 318,
   "id": "b267e95a",
   "metadata": {},
   "outputs": [],
   "source": [
    "# %%sql\n",
    "# INSERT INTO Review (ApplicationID, ReviewID) VALUES (1, 35);"
   ]
  },
  {
   "cell_type": "code",
   "execution_count": null,
   "id": "5b2787d5",
   "metadata": {},
   "outputs": [],
   "source": []
  }
 ],
 "metadata": {
  "kernelspec": {
   "display_name": "Python 3 (ipykernel)",
   "language": "python",
   "name": "python3"
  },
  "language_info": {
   "codemirror_mode": {
    "name": "ipython",
    "version": 3
   },
   "file_extension": ".py",
   "mimetype": "text/x-python",
   "name": "python",
   "nbconvert_exporter": "python",
   "pygments_lexer": "ipython3",
   "version": "3.11.5"
  }
 },
 "nbformat": 4,
 "nbformat_minor": 5
}
