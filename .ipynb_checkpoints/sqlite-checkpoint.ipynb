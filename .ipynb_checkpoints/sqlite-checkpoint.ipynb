{
 "cells": [
  {
   "cell_type": "code",
   "execution_count": 1,
   "id": "8106da9c",
   "metadata": {},
   "outputs": [],
   "source": [
    "%load_ext sql"
   ]
  },
  {
   "cell_type": "code",
   "execution_count": 2,
   "id": "8c3b4b54",
   "metadata": {},
   "outputs": [],
   "source": [
    "%sql sqlite:///council.db"
   ]
  },
  {
   "cell_type": "code",
   "execution_count": 3,
   "id": "50cf77b6",
   "metadata": {},
   "outputs": [
    {
     "name": "stdout",
     "output_type": "stream",
     "text": [
      " * sqlite:///council.db\n",
      "Done.\n"
     ]
    },
    {
     "data": {
      "text/plain": [
       "[]"
      ]
     },
     "execution_count": 3,
     "metadata": {},
     "output_type": "execute_result"
    }
   ],
   "source": [
    "# %%sql\n",
    "# CREATE TABLE Researchers (\n",
    "#     ResearcherID INT PRIMARY KEY,\n",
    "#     FirstName VARCHAR(255),\n",
    "#     LastName VARCHAR(255),\n",
    "#     Email VARCHAR(255),\n",
    "#     Organization VARCHAR(255)\n",
    "# );"
   ]
  },
  {
   "cell_type": "code",
   "execution_count": 4,
   "id": "ac3e1c9d",
   "metadata": {},
   "outputs": [
    {
     "name": "stdout",
     "output_type": "stream",
     "text": [
      " * sqlite:///council.db\n",
      "Done.\n"
     ]
    },
    {
     "data": {
      "text/plain": [
       "[]"
      ]
     },
     "execution_count": 4,
     "metadata": {},
     "output_type": "execute_result"
    }
   ],
   "source": [
    "# %%sql\n",
    "# CREATE TABLE Competitions (\n",
    "#     CompetitionID INT PRIMARY KEY,\n",
    "#     Title VARCHAR(255),\n",
    "#     ApplicationDeadline DATE,\n",
    "#     Description TEXT,\n",
    "#     Area VARCHAR(255),\n",
    "#     Status VARCHAR(255)\n",
    "# );"
   ]
  },
  {
   "cell_type": "code",
   "execution_count": 5,
   "id": "e778107f",
   "metadata": {},
   "outputs": [
    {
     "name": "stdout",
     "output_type": "stream",
     "text": [
      " * sqlite:///council.db\n",
      "Done.\n"
     ]
    },
    {
     "data": {
      "text/plain": [
       "[]"
      ]
     },
     "execution_count": 5,
     "metadata": {},
     "output_type": "execute_result"
    }
   ],
   "source": [
    "# %%sql \n",
    "# CREATE TABLE Proposals (\n",
    "#     ProposalID INT PRIMARY KEY,\n",
    "#     RequestedAmount DECIMAL(10, 2),\n",
    "#     Status VARCHAR(255),\n",
    "#     AwardedAmount DECIMAL(10, 2),\n",
    "#     Date DATE,\n",
    "#     CompetitionID INT,\n",
    "#     PrincipalInvestigator INT,\n",
    "#     FOREIGN KEY (CompetitionID) REFERENCES Competitions(CompetitionID),\n",
    "#     FOREIGN KEY (PrincipalInvestigator) REFERENCES Researchers(ResearcherID)\n",
    "# );"
   ]
  },
  {
   "cell_type": "code",
   "execution_count": 6,
   "id": "97ccc9f9",
   "metadata": {},
   "outputs": [
    {
     "name": "stdout",
     "output_type": "stream",
     "text": [
      " * sqlite:///council.db\n",
      "Done.\n"
     ]
    },
    {
     "data": {
      "text/plain": [
       "[]"
      ]
     },
     "execution_count": 6,
     "metadata": {},
     "output_type": "execute_result"
    }
   ],
   "source": [
    "# %%sql \n",
    "# CREATE TABLE Reviewers (\n",
    "#     ReviewerID INT PRIMARY KEY,\n",
    "#     ResearcherID INT,\n",
    "#     FOREIGN KEY (ResearcherID) REFERENCES Researchers(ResearcherID)\n",
    "# );"
   ]
  },
  {
   "cell_type": "code",
   "execution_count": 7,
   "id": "1e4a023a",
   "metadata": {},
   "outputs": [
    {
     "name": "stdout",
     "output_type": "stream",
     "text": [
      " * sqlite:///council.db\n",
      "Done.\n"
     ]
    },
    {
     "data": {
      "text/plain": [
       "[]"
      ]
     },
     "execution_count": 7,
     "metadata": {},
     "output_type": "execute_result"
    }
   ],
   "source": [
    "# %%sql \n",
    "# CREATE TABLE ConflictOfInterest (\n",
    "#     ReviewerID INT,\n",
    "#     ConflictType VARCHAR(255),\n",
    "#     PRIMARY KEY (ReviewerID),\n",
    "#     FOREIGN KEY (ReviewerID) REFERENCES Reviewers(ReviewerID)\n",
    "# );"
   ]
  },
  {
   "cell_type": "code",
   "execution_count": 8,
   "id": "86688bd4",
   "metadata": {},
   "outputs": [
    {
     "name": "stdout",
     "output_type": "stream",
     "text": [
      " * sqlite:///council.db\n",
      "Done.\n"
     ]
    },
    {
     "data": {
      "text/plain": [
       "[]"
      ]
     },
     "execution_count": 8,
     "metadata": {},
     "output_type": "execute_result"
    }
   ],
   "source": [
    "# %%sql\n",
    "# CREATE TABLE Assignments (\n",
    "#     AssignmentID INT PRIMARY KEY,\n",
    "#     CompetitionID INT,\n",
    "#     ReviewerID INT,\n",
    "#     Deadline DATE,\n",
    "#     ReviewSubmitted BOOLEAN,\n",
    "#     FOREIGN KEY (CompetitionID) REFERENCES Competitions(CompetitionID),\n",
    "#     FOREIGN KEY (ReviewerID) REFERENCES Reviewers(ReviewerID)\n",
    "# );"
   ]
  },
  {
   "cell_type": "code",
   "execution_count": 9,
   "id": "3571f50a",
   "metadata": {},
   "outputs": [
    {
     "name": "stdout",
     "output_type": "stream",
     "text": [
      " * sqlite:///council.db\n",
      "Done.\n"
     ]
    },
    {
     "data": {
      "text/plain": [
       "[]"
      ]
     },
     "execution_count": 9,
     "metadata": {},
     "output_type": "execute_result"
    }
   ],
   "source": [
    "# %%sql \n",
    "# CREATE TABLE Meetings (\n",
    "#     MeetingID INT PRIMARY KEY,\n",
    "#     Date DATE\n",
    "# );"
   ]
  },
  {
   "cell_type": "code",
   "execution_count": null,
   "id": "bb5c3bd8",
   "metadata": {},
   "outputs": [],
   "source": []
  }
 ],
 "metadata": {
  "kernelspec": {
   "display_name": "Python 3 (ipykernel)",
   "language": "python",
   "name": "python3"
  },
  "language_info": {
   "codemirror_mode": {
    "name": "ipython",
    "version": 3
   },
   "file_extension": ".py",
   "mimetype": "text/x-python",
   "name": "python",
   "nbconvert_exporter": "python",
   "pygments_lexer": "ipython3",
   "version": "3.11.5"
  }
 },
 "nbformat": 4,
 "nbformat_minor": 5
}
